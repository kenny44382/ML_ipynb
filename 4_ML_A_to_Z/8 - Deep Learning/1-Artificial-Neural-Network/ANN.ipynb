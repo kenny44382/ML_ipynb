{
 "cells": [
  {
   "cell_type": "markdown",
   "id": "religious-yeast",
   "metadata": {},
   "source": [
    "# Artificial Neural Networks"
   ]
  },
  {
   "cell_type": "markdown",
   "id": "parental-census",
   "metadata": {},
   "source": [
    "---\n",
    "## Part 1 - Data Preprocessing"
   ]
  },
  {
   "cell_type": "markdown",
   "id": "jewish-frequency",
   "metadata": {},
   "source": [
    "#### Importing the Libraries"
   ]
  },
  {
   "cell_type": "code",
   "execution_count": 1,
   "id": "circular-seating",
   "metadata": {},
   "outputs": [],
   "source": [
    "import numpy as np\n",
    "import pandas as pd\n",
    "import tensorflow as tf"
   ]
  },
  {
   "cell_type": "code",
   "execution_count": 2,
   "id": "dressed-accounting",
   "metadata": {},
   "outputs": [
    {
     "data": {
      "text/plain": [
       "'2.3.0'"
      ]
     },
     "execution_count": 2,
     "metadata": {},
     "output_type": "execute_result"
    }
   ],
   "source": [
    "tf.__version__"
   ]
  },
  {
   "cell_type": "markdown",
   "id": "trained-three",
   "metadata": {},
   "source": [
    "#### Importing the dataset"
   ]
  },
  {
   "cell_type": "code",
   "execution_count": 3,
   "id": "desirable-enterprise",
   "metadata": {},
   "outputs": [],
   "source": [
    "dataset = pd.read_csv('Churn_Modelling.csv')\n",
    "X = dataset.iloc[:, 3:-1].values\n",
    "y = dataset.iloc[:, -1].values"
   ]
  },
  {
   "cell_type": "code",
   "execution_count": 4,
   "id": "configured-therapy",
   "metadata": {},
   "outputs": [
    {
     "name": "stdout",
     "output_type": "stream",
     "text": [
      "[[619 'France' 'Female' ... 1 1 101348.88]\n",
      " [608 'Spain' 'Female' ... 0 1 112542.58]\n",
      " [502 'France' 'Female' ... 1 0 113931.57]\n",
      " ...\n",
      " [709 'France' 'Female' ... 0 1 42085.58]\n",
      " [772 'Germany' 'Male' ... 1 0 92888.52]\n",
      " [792 'France' 'Female' ... 1 0 38190.78]]\n"
     ]
    }
   ],
   "source": [
    "print(X)"
   ]
  },
  {
   "cell_type": "code",
   "execution_count": 5,
   "id": "yellow-personality",
   "metadata": {},
   "outputs": [
    {
     "name": "stdout",
     "output_type": "stream",
     "text": [
      "[1 0 1 ... 1 1 0]\n"
     ]
    }
   ],
   "source": [
    "print(y)"
   ]
  },
  {
   "cell_type": "markdown",
   "id": "broadband-refrigerator",
   "metadata": {},
   "source": [
    "#### Encoding categorical data"
   ]
  },
  {
   "cell_type": "code",
   "execution_count": 6,
   "id": "horizontal-decline",
   "metadata": {},
   "outputs": [],
   "source": [
    "# Label Encoding the Gender Feature\n",
    "from sklearn.preprocessing import LabelEncoder\n",
    "le = LabelEncoder()\n",
    "X[:, 2] = le.fit_transform(X[:, 2])"
   ]
  },
  {
   "cell_type": "code",
   "execution_count": 7,
   "id": "devoted-egyptian",
   "metadata": {},
   "outputs": [
    {
     "name": "stdout",
     "output_type": "stream",
     "text": [
      "[[619 'France' 0 ... 1 1 101348.88]\n",
      " [608 'Spain' 0 ... 0 1 112542.58]\n",
      " [502 'France' 0 ... 1 0 113931.57]\n",
      " ...\n",
      " [709 'France' 0 ... 0 1 42085.58]\n",
      " [772 'Germany' 1 ... 1 0 92888.52]\n",
      " [792 'France' 0 ... 1 0 38190.78]]\n"
     ]
    }
   ],
   "source": [
    "print(X)"
   ]
  },
  {
   "cell_type": "code",
   "execution_count": 8,
   "id": "processed-specific",
   "metadata": {},
   "outputs": [],
   "source": [
    "# One-Hot Encoding the values of the Geography feature\n",
    "from sklearn.compose import ColumnTransformer\n",
    "from sklearn.preprocessing import OneHotEncoder\n",
    "ct = ColumnTransformer(transformers=[('encoder', OneHotEncoder(), \\\n",
    "                                     [1])], remainder='passthrough')\n",
    "X = np.array(ct.fit_transform(X))"
   ]
  },
  {
   "cell_type": "code",
   "execution_count": 9,
   "id": "desperate-password",
   "metadata": {},
   "outputs": [
    {
     "name": "stdout",
     "output_type": "stream",
     "text": [
      "[[1.0 0.0 0.0 ... 1 1 101348.88]\n",
      " [0.0 0.0 1.0 ... 0 1 112542.58]\n",
      " [1.0 0.0 0.0 ... 1 0 113931.57]\n",
      " ...\n",
      " [1.0 0.0 0.0 ... 0 1 42085.58]\n",
      " [0.0 1.0 0.0 ... 1 0 92888.52]\n",
      " [1.0 0.0 0.0 ... 1 0 38190.78]]\n"
     ]
    }
   ],
   "source": [
    "print(X)"
   ]
  },
  {
   "cell_type": "markdown",
   "id": "constitutional-guide",
   "metadata": {},
   "source": [
    "#### Splitting the dataset into training and test set"
   ]
  },
  {
   "cell_type": "code",
   "execution_count": 10,
   "id": "numeric-subscription",
   "metadata": {},
   "outputs": [],
   "source": [
    "from sklearn.model_selection import train_test_split\n",
    "X_train, X_test, y_train, y_test = train_test_split(X, y, test_size=0.2,\\\n",
    "                                                   random_state = 0)"
   ]
  },
  {
   "cell_type": "markdown",
   "id": "interpreted-completion",
   "metadata": {},
   "source": [
    "#### Feature Scaling"
   ]
  },
  {
   "cell_type": "code",
   "execution_count": 11,
   "id": "global-navigation",
   "metadata": {},
   "outputs": [],
   "source": [
    "# Feature Scaling is compulsory for Deep Learning.\n",
    "# All Feature Vectors (of both Training Set and Test Set) need \n",
    "#    to be feature-scaled\n",
    "from sklearn.preprocessing import StandardScaler\n",
    "sc = StandardScaler()\n",
    "X_train = sc.fit_transform(X_train)\n",
    "X_test = sc.transform(X_test)"
   ]
  },
  {
   "cell_type": "markdown",
   "id": "central-reception",
   "metadata": {},
   "source": [
    "---\n",
    "## Part 2 - Building the ANN"
   ]
  },
  {
   "cell_type": "markdown",
   "id": "intermediate-connection",
   "metadata": {},
   "source": [
    "#### Initializing the ANN"
   ]
  },
  {
   "cell_type": "code",
   "execution_count": 12,
   "id": "appointed-pendant",
   "metadata": {},
   "outputs": [],
   "source": [
    "# Create an ANN as a sequence of layers\n",
    "ann = tf.keras.models.Sequential()"
   ]
  },
  {
   "cell_type": "markdown",
   "id": "removed-feature",
   "metadata": {},
   "source": [
    "#### Adding the input layer and the first hidden layer"
   ]
  },
  {
   "cell_type": "code",
   "execution_count": 13,
   "id": "complete-insulation",
   "metadata": {},
   "outputs": [],
   "source": [
    "# Adding 1st Layer of 6 Neurons with rectifier function as activation function\n",
    "ann.add(tf.keras.layers.Dense(units=6, activation='relu'))"
   ]
  },
  {
   "cell_type": "markdown",
   "id": "planned-explorer",
   "metadata": {},
   "source": [
    "#### Adding the second hidden layer"
   ]
  },
  {
   "cell_type": "code",
   "execution_count": 14,
   "id": "incorporated-howard",
   "metadata": {},
   "outputs": [],
   "source": [
    "# Adding 2nd Layer of 6 Neurons with rectifier function as activation function\n",
    "ann.add(tf.keras.layers.Dense(units=6, activation='relu'))"
   ]
  },
  {
   "cell_type": "markdown",
   "id": "renewable-electric",
   "metadata": {},
   "source": [
    "#### Adding the output layer"
   ]
  },
  {
   "cell_type": "code",
   "execution_count": 15,
   "id": "honest-suspect",
   "metadata": {},
   "outputs": [],
   "source": [
    "# Adding Output layer of 1 Neuron for binary output\n",
    "# Sigmoid Activation function is used for outputting 0 or 1\n",
    "ann.add(tf.keras.layers.Dense(units=1, activation='sigmoid'))"
   ]
  },
  {
   "cell_type": "markdown",
   "id": "removed-graduate",
   "metadata": {},
   "source": [
    "---\n",
    "## Part 3 - Training the ANN"
   ]
  },
  {
   "cell_type": "markdown",
   "id": "extra-montreal",
   "metadata": {},
   "source": [
    "#### Compiling the ANN"
   ]
  },
  {
   "cell_type": "code",
   "execution_count": 16,
   "id": "demonstrated-challenge",
   "metadata": {},
   "outputs": [],
   "source": [
    "ann.compile(optimizer = 'adam', loss = 'binary_crossentropy', \\\n",
    "            metrics = ['accuracy'])"
   ]
  },
  {
   "cell_type": "markdown",
   "id": "commercial-control",
   "metadata": {},
   "source": [
    "#### Training the ANN on the Training Set"
   ]
  },
  {
   "cell_type": "code",
   "execution_count": 17,
   "id": "false-burner",
   "metadata": {
    "collapsed": true,
    "jupyter": {
     "outputs_hidden": true
    }
   },
   "outputs": [
    {
     "name": "stdout",
     "output_type": "stream",
     "text": [
      "Epoch 1/100\n",
      "250/250 [==============================] - 0s 2ms/step - loss: 0.6551 - accuracy: 0.6582\n",
      "Epoch 2/100\n",
      "250/250 [==============================] - 1s 2ms/step - loss: 0.4916 - accuracy: 0.8040\n",
      "Epoch 3/100\n",
      "250/250 [==============================] - 1s 2ms/step - loss: 0.4401 - accuracy: 0.8156\n",
      "Epoch 4/100\n",
      "250/250 [==============================] - 1s 2ms/step - loss: 0.4233 - accuracy: 0.8189\n",
      "Epoch 5/100\n",
      "250/250 [==============================] - 1s 2ms/step - loss: 0.4147 - accuracy: 0.8198\n",
      "Epoch 6/100\n",
      "250/250 [==============================] - 0s 2ms/step - loss: 0.4075 - accuracy: 0.8216\n",
      "Epoch 7/100\n",
      "250/250 [==============================] - 0s 2ms/step - loss: 0.4010 - accuracy: 0.8236\n",
      "Epoch 8/100\n",
      "250/250 [==============================] - 0s 2ms/step - loss: 0.3947 - accuracy: 0.8278\n",
      "Epoch 9/100\n",
      "250/250 [==============================] - 0s 2ms/step - loss: 0.3877 - accuracy: 0.8332\n",
      "Epoch 10/100\n",
      "250/250 [==============================] - 1s 2ms/step - loss: 0.3796 - accuracy: 0.8401\n",
      "Epoch 11/100\n",
      "250/250 [==============================] - 0s 2ms/step - loss: 0.3718 - accuracy: 0.8429\n",
      "Epoch 12/100\n",
      "250/250 [==============================] - 1s 3ms/step - loss: 0.3642 - accuracy: 0.8456\n",
      "Epoch 13/100\n",
      "250/250 [==============================] - 1s 2ms/step - loss: 0.3576 - accuracy: 0.8510\n",
      "Epoch 14/100\n",
      "250/250 [==============================] - 0s 2ms/step - loss: 0.3527 - accuracy: 0.8539\n",
      "Epoch 15/100\n",
      "250/250 [==============================] - 0s 2ms/step - loss: 0.3491 - accuracy: 0.8544\n",
      "Epoch 16/100\n",
      "250/250 [==============================] - 1s 2ms/step - loss: 0.3463 - accuracy: 0.8574\n",
      "Epoch 17/100\n",
      "250/250 [==============================] - 0s 2ms/step - loss: 0.3441 - accuracy: 0.8565\n",
      "Epoch 18/100\n",
      "250/250 [==============================] - 1s 6ms/step - loss: 0.3425 - accuracy: 0.8596\n",
      "Epoch 19/100\n",
      "250/250 [==============================] - 2s 7ms/step - loss: 0.3405 - accuracy: 0.8611\n",
      "Epoch 20/100\n",
      "250/250 [==============================] - 2s 9ms/step - loss: 0.3398 - accuracy: 0.8605\n",
      "Epoch 21/100\n",
      "250/250 [==============================] - 3s 10ms/step - loss: 0.3382 - accuracy: 0.8601\n",
      "Epoch 22/100\n",
      "250/250 [==============================] - 2s 6ms/step - loss: 0.3372 - accuracy: 0.8608\n",
      "Epoch 23/100\n",
      "250/250 [==============================] - 2s 9ms/step - loss: 0.3363 - accuracy: 0.8620\n",
      "Epoch 24/100\n",
      "250/250 [==============================] - 2s 8ms/step - loss: 0.3360 - accuracy: 0.8618\n",
      "Epoch 25/100\n",
      "250/250 [==============================] - 2s 9ms/step - loss: 0.3352 - accuracy: 0.8611\n",
      "Epoch 26/100\n",
      "250/250 [==============================] - 1s 4ms/step - loss: 0.3341 - accuracy: 0.8620\n",
      "Epoch 27/100\n",
      "250/250 [==============================] - 1s 4ms/step - loss: 0.3334 - accuracy: 0.8635\n",
      "Epoch 28/100\n",
      "250/250 [==============================] - 1s 3ms/step - loss: 0.3332 - accuracy: 0.8637: 0s - los\n",
      "Epoch 29/100\n",
      "250/250 [==============================] - 1s 4ms/step - loss: 0.3326 - accuracy: 0.8634\n",
      "Epoch 30/100\n",
      "250/250 [==============================] - 1s 3ms/step - loss: 0.3324 - accuracy: 0.8645\n",
      "Epoch 31/100\n",
      "250/250 [==============================] - 1s 4ms/step - loss: 0.3318 - accuracy: 0.8646\n",
      "Epoch 32/100\n",
      "250/250 [==============================] - 1s 4ms/step - loss: 0.3315 - accuracy: 0.8631\n",
      "Epoch 33/100\n",
      "250/250 [==============================] - 1s 4ms/step - loss: 0.3307 - accuracy: 0.8634\n",
      "Epoch 34/100\n",
      "250/250 [==============================] - 1s 4ms/step - loss: 0.3308 - accuracy: 0.8641\n",
      "Epoch 35/100\n",
      "250/250 [==============================] - 1s 4ms/step - loss: 0.3302 - accuracy: 0.8644\n",
      "Epoch 36/100\n",
      "250/250 [==============================] - 1s 4ms/step - loss: 0.3303 - accuracy: 0.8652\n",
      "Epoch 37/100\n",
      "250/250 [==============================] - 1s 3ms/step - loss: 0.3299 - accuracy: 0.8630: 0s - loss: 0.3316 - accuracy: 0.\n",
      "Epoch 38/100\n",
      "250/250 [==============================] - 2s 6ms/step - loss: 0.3296 - accuracy: 0.8654\n",
      "Epoch 39/100\n",
      "250/250 [==============================] - 2s 9ms/step - loss: 0.3293 - accuracy: 0.8641: 0s - loss: 0.3301 - \n",
      "Epoch 40/100\n",
      "250/250 [==============================] - 2s 8ms/step - loss: 0.3289 - accuracy: 0.8639\n",
      "Epoch 41/100\n",
      "250/250 [==============================] - 2s 8ms/step - loss: 0.3284 - accuracy: 0.8654\n",
      "Epoch 42/100\n",
      "250/250 [==============================] - 3s 11ms/step - loss: 0.3289 - accuracy: 0.8630\n",
      "Epoch 43/100\n",
      "250/250 [==============================] - 5s 20ms/step - loss: 0.3283 - accuracy: 0.8643\n",
      "Epoch 44/100\n",
      "250/250 [==============================] - 8s 33ms/step - loss: 0.3275 - accuracy: 0.8652\n",
      "Epoch 45/100\n",
      "250/250 [==============================] - 2s 8ms/step - loss: 0.3277 - accuracy: 0.8633\n",
      "Epoch 46/100\n",
      "250/250 [==============================] - 2s 8ms/step - loss: 0.3274 - accuracy: 0.8624\n",
      "Epoch 47/100\n",
      "250/250 [==============================] - 2s 6ms/step - loss: 0.3271 - accuracy: 0.8662\n",
      "Epoch 48/100\n",
      "250/250 [==============================] - ETA: 0s - loss: 0.3292 - accuracy: 0.86 - 1s 4ms/step - loss: 0.3274 - accuracy: 0.8644\n",
      "Epoch 49/100\n",
      "250/250 [==============================] - 1s 6ms/step - loss: 0.3270 - accuracy: 0.8645\n",
      "Epoch 50/100\n",
      "250/250 [==============================] - 3s 11ms/step - loss: 0.3266 - accuracy: 0.8645\n",
      "Epoch 51/100\n",
      "250/250 [==============================] - 2s 7ms/step - loss: 0.3264 - accuracy: 0.8651: \n",
      "Epoch 52/100\n",
      "250/250 [==============================] - 2s 8ms/step - loss: 0.3270 - accuracy: 0.8646\n",
      "Epoch 53/100\n",
      "250/250 [==============================] - 2s 10ms/step - loss: 0.3264 - accuracy: 0.8643\n",
      "Epoch 54/100\n",
      "250/250 [==============================] - 2s 7ms/step - loss: 0.3264 - accuracy: 0.8650\n",
      "Epoch 55/100\n",
      "250/250 [==============================] - 1s 3ms/step - loss: 0.3263 - accuracy: 0.8640: 0s - loss: 0.3285 - \n",
      "Epoch 56/100\n",
      "250/250 [==============================] - 1s 3ms/step - loss: 0.3262 - accuracy: 0.8669\n",
      "Epoch 57/100\n",
      "250/250 [==============================] - ETA: 0s - loss: 0.3254 - accuracy: 0.8652 ETA: 0s - loss: 0.3159 - accu - ETA: 0s - loss: 0.3242 - accuracy - 1s 3ms/step - loss: 0.3262 - accuracy: 0.8650\n",
      "Epoch 58/100\n",
      "250/250 [==============================] - 1s 3ms/step - loss: 0.3262 - accuracy: 0.8646\n",
      "Epoch 59/100\n",
      "250/250 [==============================] - 1s 2ms/step - loss: 0.3268 - accuracy: 0.8646\n",
      "Epoch 60/100\n",
      "250/250 [==============================] - 1s 3ms/step - loss: 0.3262 - accuracy: 0.8656\n",
      "Epoch 61/100\n",
      "250/250 [==============================] - 1s 3ms/step - loss: 0.3262 - accuracy: 0.8637\n",
      "Epoch 62/100\n",
      "250/250 [==============================] - 1s 4ms/step - loss: 0.3258 - accuracy: 0.8650: 0s\n",
      "Epoch 63/100\n",
      "250/250 [==============================] - 1s 4ms/step - loss: 0.3258 - accuracy: 0.8651\n",
      "Epoch 64/100\n",
      "250/250 [==============================] - 1s 3ms/step - loss: 0.3255 - accuracy: 0.8654\n",
      "Epoch 65/100\n",
      "250/250 [==============================] - 1s 3ms/step - loss: 0.3252 - accuracy: 0.8654\n",
      "Epoch 66/100\n",
      "250/250 [==============================] - 1s 2ms/step - loss: 0.3261 - accuracy: 0.8646\n",
      "Epoch 67/100\n",
      "250/250 [==============================] - 1s 3ms/step - loss: 0.3255 - accuracy: 0.8656: 0s - loss: 0.3384 - accura\n",
      "Epoch 68/100\n",
      "250/250 [==============================] - 2s 9ms/step - loss: 0.3255 - accuracy: 0.8651: 0s - loss: 0.326\n",
      "Epoch 69/100\n",
      "250/250 [==============================] - 3s 12ms/step - loss: 0.3261 - accuracy: 0.8654\n",
      "Epoch 70/100\n",
      "250/250 [==============================] - 4s 17ms/step - loss: 0.3257 - accuracy: 0.8651\n",
      "Epoch 71/100\n",
      "250/250 [==============================] - 1s 4ms/step - loss: 0.3253 - accuracy: 0.8645\n",
      "Epoch 72/100\n",
      "250/250 [==============================] - 1s 3ms/step - loss: 0.3252 - accuracy: 0.8643\n",
      "Epoch 73/100\n",
      "250/250 [==============================] - 1s 3ms/step - loss: 0.3256 - accuracy: 0.8674\n",
      "Epoch 74/100\n",
      "250/250 [==============================] - 1s 3ms/step - loss: 0.3246 - accuracy: 0.8659\n",
      "Epoch 75/100\n",
      "250/250 [==============================] - 1s 3ms/step - loss: 0.3253 - accuracy: 0.8660\n",
      "Epoch 76/100\n",
      "250/250 [==============================] - 1s 3ms/step - loss: 0.3251 - accuracy: 0.8651\n",
      "Epoch 77/100\n",
      "250/250 [==============================] - 1s 3ms/step - loss: 0.3253 - accuracy: 0.8679\n",
      "Epoch 78/100\n",
      "250/250 [==============================] - 1s 3ms/step - loss: 0.3254 - accuracy: 0.8661: 0s - loss: 0.3172 - accuracy\n",
      "Epoch 79/100\n",
      "250/250 [==============================] - 1s 3ms/step - loss: 0.3251 - accuracy: 0.8659\n",
      "Epoch 80/100\n",
      "250/250 [==============================] - 1s 4ms/step - loss: 0.3252 - accuracy: 0.8636\n",
      "Epoch 81/100\n",
      "250/250 [==============================] - 1s 3ms/step - loss: 0.3249 - accuracy: 0.8670\n",
      "Epoch 82/100\n",
      "250/250 [==============================] - 1s 2ms/step - loss: 0.3247 - accuracy: 0.8660\n",
      "Epoch 83/100\n",
      "250/250 [==============================] - 1s 3ms/step - loss: 0.3247 - accuracy: 0.8650: 0s - loss: 0.3218 - accuracy: 0.86\n",
      "Epoch 84/100\n",
      "250/250 [==============================] - 1s 5ms/step - loss: 0.3252 - accuracy: 0.8662: 0s - loss:\n",
      "Epoch 85/100\n",
      "250/250 [==============================] - 2s 8ms/step - loss: 0.3250 - accuracy: 0.8658\n",
      "Epoch 86/100\n",
      "250/250 [==============================] - 4s 17ms/step - loss: 0.3243 - accuracy: 0.8656\n",
      "Epoch 87/100\n",
      "250/250 [==============================] - 3s 11ms/step - loss: 0.3253 - accuracy: 0.8658\n",
      "Epoch 88/100\n",
      "250/250 [==============================] - 3s 14ms/step - loss: 0.3245 - accuracy: 0.8670\n",
      "Epoch 89/100\n",
      "250/250 [==============================] - 5s 21ms/step - loss: 0.3247 - accuracy: 0.8645\n",
      "Epoch 90/100\n",
      "250/250 [==============================] - 1s 6ms/step - loss: 0.3254 - accuracy: 0.8662\n",
      "Epoch 91/100\n",
      "250/250 [==============================] - 1s 3ms/step - loss: 0.3248 - accuracy: 0.8676\n",
      "Epoch 92/100\n",
      "250/250 [==============================] - 1s 2ms/step - loss: 0.3247 - accuracy: 0.8655\n",
      "Epoch 93/100\n",
      "250/250 [==============================] - 1s 3ms/step - loss: 0.3250 - accuracy: 0.8652\n",
      "Epoch 94/100\n",
      "250/250 [==============================] - 1s 2ms/step - loss: 0.3251 - accuracy: 0.8655: 0s - loss: 0.3314 - accu\n",
      "Epoch 95/100\n",
      "250/250 [==============================] - 1s 3ms/step - loss: 0.3245 - accuracy: 0.8666\n",
      "Epoch 96/100\n",
      "250/250 [==============================] - 1s 3ms/step - loss: 0.3244 - accuracy: 0.8658: 0s - loss:\n",
      "Epoch 97/100\n",
      "250/250 [==============================] - 1s 4ms/step - loss: 0.3244 - accuracy: 0.8665\n",
      "Epoch 98/100\n",
      "250/250 [==============================] - 1s 2ms/step - loss: 0.3248 - accuracy: 0.8649\n",
      "Epoch 99/100\n",
      "250/250 [==============================] - 1s 3ms/step - loss: 0.3243 - accuracy: 0.8671\n",
      "Epoch 100/100\n",
      "250/250 [==============================] - 1s 3ms/step - loss: 0.3248 - accuracy: 0.8655\n"
     ]
    },
    {
     "data": {
      "text/plain": [
       "<tensorflow.python.keras.callbacks.History at 0x1e974243eb0>"
      ]
     },
     "execution_count": 17,
     "metadata": {},
     "output_type": "execute_result"
    }
   ],
   "source": [
    "ann.fit(X_train, y_train, batch_size = 32, epochs = 100)"
   ]
  },
  {
   "cell_type": "markdown",
   "id": "collective-gibson",
   "metadata": {},
   "source": [
    "---\n",
    "## Part 4 - Making the predictions and evaluating the model"
   ]
  },
  {
   "cell_type": "markdown",
   "id": "private-invitation",
   "metadata": {},
   "source": [
    "#### Predicting the result of a single observation"
   ]
  },
  {
   "cell_type": "markdown",
   "id": "scenic-prediction",
   "metadata": {},
   "source": [
    "__Homework__\n",
    "\n",
    "Use our ANN model to predict if the customer with the following information will leave the bank:\n",
    "- Geography: France\n",
    "- Credit Score: 600\n",
    "- Gender: Male\n",
    "- Age: 40 years old\n",
    "- Tenure: 3 years\n",
    "- Balance: \\$ 60000\n",
    "- Number of Products: 2\n",
    "- Does this customer have a credit card ? Yes\n",
    "- Is the customer an Active Member: Yes\n",
    "- Estimated Salary: \\$ 50000\n",
    "\n",
    "So, should we say goodbye to the customer ?"
   ]
  },
  {
   "cell_type": "markdown",
   "id": "consolidated-jacob",
   "metadata": {},
   "source": [
    "__Solution__"
   ]
  },
  {
   "cell_type": "code",
   "execution_count": 18,
   "id": "subject-tooth",
   "metadata": {},
   "outputs": [
    {
     "data": {
      "text/plain": [
       "array([[0.0366987]], dtype=float32)"
      ]
     },
     "execution_count": 18,
     "metadata": {},
     "output_type": "execute_result"
    }
   ],
   "source": [
    "ann.predict(sc.transform([[1, 0, 0, 600, 1, 40, 3, 60000, 2, 1, 1, 50000]]))"
   ]
  },
  {
   "cell_type": "code",
   "execution_count": 19,
   "id": "classical-ireland",
   "metadata": {},
   "outputs": [
    {
     "name": "stdout",
     "output_type": "stream",
     "text": [
      "[[False]]\n"
     ]
    }
   ],
   "source": [
    "# Prediction\n",
    "print(ann.predict(sc.transform([[1, 0, 0, 600, 1, 40, 3, 60000, 2, 1, 1, 50000]])) \\\n",
    "      > 0.5)"
   ]
  },
  {
   "cell_type": "markdown",
   "id": "religious-advertising",
   "metadata": {},
   "source": [
    "Therefore our ANN model predicts that the customer stays in the bank"
   ]
  },
  {
   "cell_type": "markdown",
   "id": "operating-mission",
   "metadata": {},
   "source": [
    "#### Predicting the Test set results"
   ]
  },
  {
   "cell_type": "code",
   "execution_count": 20,
   "id": "increasing-westminster",
   "metadata": {},
   "outputs": [
    {
     "name": "stdout",
     "output_type": "stream",
     "text": [
      "[[0 0]\n",
      " [0 1]\n",
      " [0 0]\n",
      " ...\n",
      " [0 0]\n",
      " [0 0]\n",
      " [0 0]]\n"
     ]
    }
   ],
   "source": [
    "y_pred = ann.predict(X_test)\n",
    "y_pred = (y_pred > 0.5)\n",
    "print(np.concatenate((y_pred.reshape(len(y_pred), 1), \\\n",
    "                     y_test.reshape(len(y_test), 1)), 1))"
   ]
  },
  {
   "cell_type": "markdown",
   "id": "divided-trauma",
   "metadata": {},
   "source": [
    "#### Making the Confusion Matrix"
   ]
  },
  {
   "cell_type": "code",
   "execution_count": 21,
   "id": "permanent-albania",
   "metadata": {},
   "outputs": [
    {
     "name": "stdout",
     "output_type": "stream",
     "text": [
      "[[1502   93]\n",
      " [ 174  231]]\n"
     ]
    },
    {
     "data": {
      "text/plain": [
       "0.8665"
      ]
     },
     "execution_count": 21,
     "metadata": {},
     "output_type": "execute_result"
    }
   ],
   "source": [
    "from sklearn.metrics import confusion_matrix, accuracy_score\n",
    "cm = confusion_matrix(y_test, y_pred)\n",
    "print(cm)\n",
    "accuracy_score(y_test, y_pred)"
   ]
  }
 ],
 "metadata": {
  "kernelspec": {
   "display_name": "TensorFlowEnv",
   "language": "python",
   "name": "tf"
  },
  "language_info": {
   "codemirror_mode": {
    "name": "ipython",
    "version": 3
   },
   "file_extension": ".py",
   "mimetype": "text/x-python",
   "name": "python",
   "nbconvert_exporter": "python",
   "pygments_lexer": "ipython3",
   "version": "3.8.8"
  }
 },
 "nbformat": 4,
 "nbformat_minor": 5
}

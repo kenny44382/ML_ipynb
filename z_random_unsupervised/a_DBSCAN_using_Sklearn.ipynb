{
  "nbformat": 4,
  "nbformat_minor": 0,
  "metadata": {
    "colab": {
      "name": "DBSCAN_using_Sklearn.ipynb",
      "provenance": [],
      "mount_file_id": "1Qu29TqkBu9nKCCEap6wKUBxfwAliVixe",
      "authorship_tag": "ABX9TyN4y/NKHo4GtNGlDx/WFo47",
      "include_colab_link": true
    },
    "kernelspec": {
      "name": "python3",
      "display_name": "Python 3"
    }
  },
  "cells": [
    {
      "cell_type": "markdown",
      "metadata": {
        "id": "view-in-github",
        "colab_type": "text"
      },
      "source": [
        "<a href=\"https://colab.research.google.com/github/BALaka-18/Unsupervised-algorithm-and-Dimensionality-Reduction/blob/master/DBSCAN_using_Sklearn.ipynb\" target=\"_parent\"><img src=\"https://colab.research.google.com/assets/colab-badge.svg\" alt=\"Open In Colab\"/></a>"
      ]
    },
    {
      "cell_type": "code",
      "metadata": {
        "id": "T9NvWJeckmba"
      },
      "source": [
        "import pandas as pd\n",
        "import numpy as np\n",
        "from sklearn.cluster import DBSCAN\n",
        "from sklearn.metrics import silhouette_score"
      ],
      "execution_count": 1,
      "outputs": []
    },
    {
      "cell_type": "code",
      "metadata": {
        "colab": {
          "base_uri": "https://localhost:8080/"
        },
        "id": "wjXVagaSlaSm",
        "outputId": "23481339-5397-4512-d3d2-08fd7c13561b"
      },
      "source": [
        "mall_data = pd.read_csv('/content/drive/MyDrive/Mall_Customers.csv')\n",
        "print(mall_data.head(10),\"\\nShape = \",mall_data.shape)\n",
        "# Filtering out 2D data for testing DBSCAN\n",
        "X = mall_data.iloc[:,[3,4]].values\n",
        "print(\"\\n\",X[:11],\"\\nShape = \",X.shape)"
      ],
      "execution_count": 5,
      "outputs": [
        {
          "output_type": "stream",
          "text": [
            "   CustomerID   Genre  Age  Annual Income (k$)  Spending Score (1-100)\n",
            "0           1    Male   19                  15                      39\n",
            "1           2    Male   21                  15                      81\n",
            "2           3  Female   20                  16                       6\n",
            "3           4  Female   23                  16                      77\n",
            "4           5  Female   31                  17                      40\n",
            "5           6  Female   22                  17                      76\n",
            "6           7  Female   35                  18                       6\n",
            "7           8  Female   23                  18                      94\n",
            "8           9    Male   64                  19                       3\n",
            "9          10  Female   30                  19                      72 \n",
            "Shape =  (200, 5)\n",
            "\n",
            " [[15 39]\n",
            " [15 81]\n",
            " [16  6]\n",
            " [16 77]\n",
            " [17 40]\n",
            " [17 76]\n",
            " [18  6]\n",
            " [18 94]\n",
            " [19  3]\n",
            " [19 72]\n",
            " [19 14]] \n",
            "Shape =  (200, 2)\n"
          ],
          "name": "stdout"
        }
      ]
    },
    {
      "cell_type": "code",
      "metadata": {
        "colab": {
          "base_uri": "https://localhost:8080/"
        },
        "id": "_JxEFY_GlhFf",
        "outputId": "56fa5acb-cd4a-4728-b5f8-f7aa04ee6234"
      },
      "source": [
        "dbscan = DBSCAN(eps = 3, min_samples = 4)\n",
        "# Fitting the model and displaying the labels\n",
        "model = dbscan.fit(X)\n",
        "cluster_labels = model.labels_\n",
        "print(cluster_labels)"
      ],
      "execution_count": 9,
      "outputs": [
        {
          "output_type": "stream",
          "text": [
            "[-1 -1 -1 -1 -1 -1 -1 -1 -1 -1 -1 -1 -1 -1 -1 -1 -1 -1 -1 -1 -1 -1 -1 -1\n",
            " -1 -1 -1 -1 -1 -1 -1 -1 -1 -1 -1 -1 -1 -1 -1 -1 -1 -1 -1 -1 -1 -1 -1 -1\n",
            " -1 -1 -1 -1 -1 -1 -1 -1  0  0  0  0 -1 -1  0 -1  0 -1  0  0 -1  0 -1 -1\n",
            "  0 -1  1  1  1  1  1  1  1  1  1  1  1  1  1  1 -1  2  1  2  2  2  2  2\n",
            "  2  2  2  2  2  2  2  2  2  2  2  2  2  2  2  2  2  2  2  2  2  3  2  3\n",
            "  3 -1  3 -1 -1  4 -1 -1 -1  4  5  4 -1  4  5 -1  5  4 -1  4  5 -1 -1  6\n",
            " -1 -1 -1  7 -1  6 -1  6 -1  7 -1  6 -1  7 -1  7 -1 -1 -1 -1 -1 -1 -1 -1\n",
            " -1 -1  8 -1  8 -1  8 -1  8 -1 -1 -1 -1 -1 -1 -1 -1 -1 -1 -1 -1 -1 -1 -1\n",
            " -1 -1 -1 -1 -1 -1 -1 -1]\n"
          ],
          "name": "stdout"
        }
      ]
    },
    {
      "cell_type": "code",
      "metadata": {
        "colab": {
          "base_uri": "https://localhost:8080/"
        },
        "id": "4sXLecMDms5A",
        "outputId": "36f14545-3cd9-4fb5-8956-4462a4d61be3"
      },
      "source": [
        "# Identifying points that make up our core points\n",
        "cluster_cores = np.zeros_like(cluster_labels,dtype=bool)\n",
        "cluster_cores[dbscan.core_sample_indices_] = True\n",
        "print(cluster_cores)"
      ],
      "execution_count": 11,
      "outputs": [
        {
          "output_type": "stream",
          "text": [
            "[False False False False False False False False False False False False\n",
            " False False False False False False False False False False False False\n",
            " False False False False False False False False False False False False\n",
            " False False False False False False False False False False False False\n",
            " False False False False False False False False False False  True  True\n",
            " False False  True False  True False  True  True False  True False False\n",
            "  True False  True  True  True  True  True False  True  True False  True\n",
            " False  True False  True False False False  True  True  True  True  True\n",
            "  True  True  True  True  True  True False  True  True  True  True  True\n",
            "  True  True  True  True  True  True  True  True  True False False  True\n",
            " False False False False False False False False False  True False  True\n",
            " False False False False  True  True False False False False False False\n",
            " False False False False False False False  True False  True False  True\n",
            " False False False False False False False False False False False False\n",
            " False False  True False False False False False False False False False\n",
            " False False False False False False False False False False False False\n",
            " False False False False False False False False]\n"
          ],
          "name": "stdout"
        }
      ]
    },
    {
      "cell_type": "code",
      "metadata": {
        "colab": {
          "base_uri": "https://localhost:8080/"
        },
        "id": "B9pR0IGHnY9K",
        "outputId": "7126a520-e2dd-4331-c8e5-24dda135337e"
      },
      "source": [
        "# Finding number of clusters and calculating silhouette score\n",
        "n_clusters = len(set(cluster_labels))- (1 if -1 in cluster_labels else 0)\n",
        "print(n_clusters,\"\\n\")\n",
        "print(\"Silhouette score = \", silhouette_score(X,cluster_labels))"
      ],
      "execution_count": 12,
      "outputs": [
        {
          "output_type": "stream",
          "text": [
            "9 \n",
            "\n",
            "Silhouette score =  -0.1908319132560097\n"
          ],
          "name": "stdout"
        }
      ]
    },
    {
      "cell_type": "code",
      "metadata": {
        "id": "irKs0gZYn3Ft"
      },
      "source": [
        ""
      ],
      "execution_count": null,
      "outputs": []
    }
  ]
}